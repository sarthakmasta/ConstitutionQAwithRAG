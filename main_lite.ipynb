{
 "cells": [
  {
   "cell_type": "markdown",
   "id": "77bf59dd-0918-4bbb-87e7-d0a3df6d85db",
   "metadata": {},
   "source": [
    "# Indian Constitution Q&A System with RAG\n",
    "This notebook presents a Retrieval-Augmented Generation (RAG) pipeline for querying the Indian Constitution. It uses:\n",
    "- OpenAI embeddings for semantic search\n",
    "- ChromaDB for local vector storage\n",
    "- LangChain to integrate retrieval and generation\n",
    "- Gradio to provide an interactive Q&A interface\n",
    "\n",
    "Explore the Constitution by asking about fundamental rights, directive principles, amendments, and other topics."
   ]
  },
  {
   "cell_type": "markdown",
   "id": "ba96d6a0-4c71-41e7-b57c-b78628d89e39",
   "metadata": {},
   "source": [
    "## Part 1. Installation & Setup"
   ]
  },
  {
   "cell_type": "code",
   "execution_count": null,
   "id": "7f12482b-04f8-4cbc-bfe5-563800e53e63",
   "metadata": {},
   "outputs": [],
   "source": [
    "!pip install langchain langchain-openai langchain-chroma langchain-community\n",
    "!pip install openai chromadb pypdf gradio python-dotenv\n",
    "!pip install numpy scikit-learn plotly\n",
    "\n",
    "#Skip this cell if you already have the required libraries installed!"
   ]
  },
  {
   "cell_type": "code",
   "execution_count": 2,
   "id": "4dacba96-f4b1-4b3e-a73e-581d5ef0d3f1",
   "metadata": {},
   "outputs": [],
   "source": [
    "import os\n",
    "from dotenv import load_dotenv\n",
    "import gradio as gr\n",
    "import numpy as np\n",
    "from sklearn.manifold import TSNE\n",
    "import plotly.graph_objects as go\n",
    "\n",
    "from langchain_community.document_loaders import PyPDFLoader\n",
    "from langchain.text_splitter import RecursiveCharacterTextSplitter\n",
    "from langchain_openai import OpenAIEmbeddings, ChatOpenAI\n",
    "from langchain_chroma import Chroma\n",
    "from langchain.memory import ConversationBufferMemory\n",
    "from langchain.chains import ConversationalRetrievalChain"
   ]
  },
  {
   "cell_type": "code",
   "execution_count": 3,
   "id": "c4073380-213b-4413-a837-e7ee30892ecf",
   "metadata": {},
   "outputs": [],
   "source": [
    "MODEL = \"gpt-4o-mini\"\n",
    "DB_PATH = \"constitution_vectordb\"\n",
    "BOOK_PATH = \"indian_constitution.pdf\"\n",
    "\n",
    "load_dotenv(override=True)\n",
    "os.environ['OPENAI_API_KEY'] = os.getenv('OPENAI_API_KEY', 'your-key-here')"
   ]
  },
  {
   "cell_type": "code",
   "execution_count": 4,
   "id": "dbfcf65d-9d49-419d-8f1d-79665058d4fd",
   "metadata": {},
   "outputs": [
    {
     "name": "stdout",
     "output_type": "stream",
     "text": [
      "API key loaded successfully!\n"
     ]
    }
   ],
   "source": [
    "# TEST if the API key is loaded or not\n",
    "if os.environ.get('OPENAI_API_KEY') and os.environ['OPENAI_API_KEY'] != 'your-key-here':\n",
    "    print(\"API key loaded successfully!\")\n",
    "else:\n",
    "    print(\"API key not found.\")"
   ]
  },
  {
   "cell_type": "markdown",
   "id": "49d444ca-2221-4518-b3cb-341746e5cb27",
   "metadata": {},
   "source": [
    "## Part 2. Load the Indian Constitution"
   ]
  },
  {
   "cell_type": "code",
   "execution_count": 5,
   "id": "27a47f59-2c1c-4b1c-b6f2-ec3bd1e59a2a",
   "metadata": {},
   "outputs": [
    {
     "name": "stdout",
     "output_type": "stream",
     "text": [
      "Loaded 402 pages\n"
     ]
    }
   ],
   "source": [
    "loader = PyPDFLoader(BOOK_PATH)\n",
    "documents = loader.load()\n",
    "print(f\"Loaded {len(documents)} pages\")"
   ]
  },
  {
   "cell_type": "code",
   "execution_count": 6,
   "id": "23e6907d-83c2-4761-a281-1897e166d875",
   "metadata": {},
   "outputs": [
    {
     "name": "stdout",
     "output_type": "stream",
     "text": [
      "Created 1686 chunks\n"
     ]
    }
   ],
   "source": [
    "splitter = RecursiveCharacterTextSplitter(\n",
    "    chunk_size=800,\n",
    "    chunk_overlap=150,\n",
    "    separators=[\"\\n\\n\", \"\\n\", \". \", \" \", \"\"]\n",
    ")\n",
    "chunks = splitter.split_documents(documents)\n",
    "print(f\"Created {len(chunks)} chunks\")"
   ]
  },
  {
   "cell_type": "markdown",
   "id": "083a31e5-4e8b-4d01-89e4-0c437294a7ab",
   "metadata": {},
   "source": [
    "## Part 3. Create Vector Database with Embeddings"
   ]
  },
  {
   "cell_type": "code",
   "execution_count": 7,
   "id": "75dd675a-f75a-4fa9-86d6-f7b99a87e5eb",
   "metadata": {},
   "outputs": [
    {
     "name": "stdout",
     "output_type": "stream",
     "text": [
      "Vector database created with 1686 chunks\n"
     ]
    }
   ],
   "source": [
    "embeddings = OpenAIEmbeddings(model=\"text-embedding-3-small\")\n",
    "\n",
    "if os.path.exists(DB_PATH):\n",
    "    Chroma(persist_directory=DB_PATH, embedding_function=embeddings).delete_collection()\n",
    "\n",
    "vectorstore = Chroma.from_documents(\n",
    "    documents=chunks,\n",
    "    embedding=embeddings,\n",
    "    persist_directory=DB_PATH\n",
    ")\n",
    "print(f\"Vector database created with {vectorstore._collection.count()} chunks\")"
   ]
  },
  {
   "cell_type": "code",
   "execution_count": 8,
   "id": "88370cc9-3fe7-491a-91dd-7723c709b66b",
   "metadata": {},
   "outputs": [
    {
     "name": "stdout",
     "output_type": "stream",
     "text": [
      "Each vector has 1,536 dimensions\n"
     ]
    }
   ],
   "source": [
    "collection = vectorstore._collection\n",
    "sample = collection.get(limit=1, include=[\"embeddings\"])[\"embeddings\"][0]\n",
    "print(f\"Each vector has {len(sample):,} dimensions\")"
   ]
  },
  {
   "cell_type": "code",
   "execution_count": 9,
   "id": "d9ef0c75-2ac2-428e-aca1-13b9a8029898",
   "metadata": {},
   "outputs": [
    {
     "name": "stdout",
     "output_type": "stream",
     "text": [
      "Retrieved 1686 document chunks for visualization\n"
     ]
    }
   ],
   "source": [
    "data = collection.get(include=['embeddings', 'documents', 'metadatas'])\n",
    "embeddings_array = np.array(data['embeddings'])\n",
    "texts = data['documents']\n",
    "pages = [meta.get('page', 0) for meta in data['metadatas']]\n",
    "\n",
    "print(f\"Retrieved {len(texts)} document chunks for visualization\")"
   ]
  },
  {
   "cell_type": "markdown",
   "id": "2f93a7d7-db9e-44bf-94c5-ae95b59cd55b",
   "metadata": {},
   "source": [
    "### 2D and 3D Visualization"
   ]
  },
  {
   "cell_type": "code",
   "execution_count": null,
   "id": "22bf13ed-81dc-45d2-9c21-11140be48d29",
   "metadata": {},
   "outputs": [],
   "source": [
    "tsne_2d = TSNE(n_components=2, random_state=42, perplexity=30)\n",
    "coords_2d = tsne_2d.fit_transform(embeddings_array)\n",
    "\n",
    "fig_2d = go.Figure(data=[go.Scatter(\n",
    "    x=coords_2d[:, 0],\n",
    "    y=coords_2d[:, 1],\n",
    "    mode='markers',\n",
    "    marker=dict(size=6, color=pages, opacity=0.7),\n",
    "    text=[f\"Page {p}<br>{t[:150]}...\" for p, t in zip(pages, texts)],\n",
    "    hoverinfo='text'\n",
    ")])\n",
    "\n",
    "fig_2d.update_layout(\n",
    "    title='Indian Constitution 2D Vector Store Visualization',\n",
    "    xaxis_title='x',\n",
    "    yaxis_title='y',\n",
    "    width=1000,\n",
    "    height=700\n",
    ")\n",
    "\n",
    "fig_2d.show()"
   ]
  },
  {
   "cell_type": "code",
   "execution_count": null,
   "id": "2f526500-6bed-49f1-a61a-4cf219b51f04",
   "metadata": {},
   "outputs": [],
   "source": [
    "tsne_3d = TSNE(n_components=3, random_state=42, perplexity=30)\n",
    "coords_3d = tsne_3d.fit_transform(embeddings_array)\n",
    "\n",
    "fig_3d = go.Figure(data=[go.Scatter3d(\n",
    "    x=coords_3d[:, 0],\n",
    "    y=coords_3d[:, 1],\n",
    "    z=coords_3d[:, 2],\n",
    "    mode='markers',\n",
    "    marker=dict(size=4, color=pages, opacity=0.6),\n",
    "    text=[f\"Page {p}<br>{t[:150]}...\" for p, t in zip(pages, texts)],\n",
    "    hoverinfo='text'\n",
    ")])\n",
    "\n",
    "fig_3d.update_layout(\n",
    "    title='Indian Constitution 3D Vector Store Visualization',\n",
    "    scene=dict(\n",
    "        xaxis_title='x',\n",
    "        yaxis_title='y',\n",
    "        zaxis_title='z'\n",
    "    ),\n",
    "    width=1000,\n",
    "    height=800\n",
    ")\n",
    "\n",
    "fig_3d.show()"
   ]
  },
  {
   "cell_type": "markdown",
   "id": "11eecc5b-5295-40fd-a3e5-913313e544a3",
   "metadata": {},
   "source": [
    "## Part 4. Setup RAG Chain"
   ]
  },
  {
   "cell_type": "code",
   "execution_count": 12,
   "id": "61a7aec5-f425-4be9-99c0-d6ee1fd59a07",
   "metadata": {},
   "outputs": [],
   "source": [
    "llm = ChatOpenAI(temperature=0.3, model_name=MODEL)\n",
    "memory = ConversationBufferMemory(memory_key='chat_history', return_messages=True, output_key='answer')\n",
    "retriever = vectorstore.as_retriever()\n",
    "\n",
    "# ConversationalRetrievalChain shows a deprecation warning but still works fine for this use case\n",
    "conversation_chain = ConversationalRetrievalChain.from_llm(llm=llm, retriever=retriever, memory=memory, return_source_documents=True)"
   ]
  },
  {
   "cell_type": "code",
   "execution_count": 11,
   "id": "3ecd9d4c-306c-4420-84ae-597fd82982a7",
   "metadata": {},
   "outputs": [
    {
     "name": "stdout",
     "output_type": "stream",
     "text": [
      "The fundamental rights guaranteed by the Constitution of India include:\n",
      "\n",
      "1. Right to Equality:\n",
      "   - Equality before law.\n",
      "   - Prohibition of discrimination on grounds of religion, race, caste, sex, or place of birth.\n",
      "   - Equality of opportunity in matters of public employment.\n",
      "   - Abolition of Untouchability.\n",
      "   - Abolition of titles.\n",
      "\n",
      "2. Right to Freedom:\n",
      "   - Protection of certain rights regarding freedom of speech, etc.\n",
      "   - Protection in respect of conviction for offences.\n",
      "   - Protection of life and personal liberty.\n",
      "   - Right to education.\n",
      "   - Protection against arrest and detention in certain cases.\n",
      "\n",
      "3. Right against Exploitation:\n",
      "   - Prohibition of human trafficking and forced labor.\n",
      "   - Prohibition of child labor.\n",
      "\n",
      "4. Right to Freedom of Religion:\n",
      "   - Freedom of conscience and free profession, practice, and propagation of religion.\n",
      "\n",
      "5. Cultural and Educational Rights:\n",
      "   - Protection of the rights of minorities to establish and administer educational institutions of their choice.\n",
      "   - Right to conserve culture, language, and script.\n",
      "\n",
      "6. Right to Constitutional Remedies:\n",
      "   - The right to move the Supreme Court for the enforcement of fundamental rights.\n",
      "\n",
      "These rights are essential for the protection of individual liberties and the promotion of justice in society.\n",
      "Retrieved from 4 sources\n"
     ]
    }
   ],
   "source": [
    "test_query = \"What are the fundamental rights guaranteed by the Constitution?\"\n",
    "result = conversation_chain.invoke({\"question\": test_query})\n",
    "print(result['answer'])\n",
    "print(f\"Retrieved from {len(result['source_documents'])} sources\")"
   ]
  },
  {
   "cell_type": "markdown",
   "id": "9ee87004-1d47-4ba8-bb1b-a424f8f10c96",
   "metadata": {},
   "source": [
    "## Part 5. Interactive Gradio Interface"
   ]
  },
  {
   "cell_type": "code",
   "execution_count": null,
   "id": "95e006f3-9b0a-4f3e-83da-64a832f7676b",
   "metadata": {},
   "outputs": [],
   "source": [
    "def answer_question(message, chat_history):\n",
    "    result = conversation_chain.invoke({\"question\": message})\n",
    "    answer = result['answer']\n",
    "\n",
    "    sources = result.get('source_documents', [])\n",
    "    if sources:\n",
    "        answer += f\"\\n\\n(Retrieved from {len(sources)} sources)\"\n",
    "\n",
    "    chat_history = chat_history or []\n",
    "    chat_history.append({\"role\": \"user\", \"content\": message})\n",
    "    chat_history.append({\"role\": \"assistant\", \"content\": answer})\n",
    "    return chat_history\n",
    "\n",
    "with gr.Blocks(title=\"Indian Constitution Q&A\") as ui:\n",
    "    gr.Markdown(\"# Indian Constitution Q&A System\\nAsk questions about articles, amendments, fundamental rights, and more.\")\n",
    "    with gr.Row():\n",
    "        with gr.Column(scale=4):\n",
    "            chatbot = gr.Chatbot(height=500, type=\"messages\")\n",
    "            msg = gr.Textbox(placeholder=\"Ask a question about the Constitution...\")\n",
    "        with gr.Column(scale=1):\n",
    "            gr.Markdown(\"### Example Questions:\")\n",
    "            gr.Markdown(\"\"\"\n",
    "            - What are fundamental rights?\n",
    "            - Explain Article 370\n",
    "            - What is the Right to Education?\n",
    "            - List the Directive Principles\n",
    "            - What are the amendment procedures?\n",
    "            - Explain the federal structure\n",
    "            \"\"\")\n",
    "    msg.submit(answer_question, [msg, chatbot], [chatbot])\n",
    "    \n",
    "ui.launch(share=False, inbrowser=True)"
   ]
  }
 ],
 "metadata": {
  "kernelspec": {
   "display_name": "Python [conda env:base] *",
   "language": "python",
   "name": "conda-base-py"
  },
  "language_info": {
   "codemirror_mode": {
    "name": "ipython",
    "version": 3
   },
   "file_extension": ".py",
   "mimetype": "text/x-python",
   "name": "python",
   "nbconvert_exporter": "python",
   "pygments_lexer": "ipython3",
   "version": "3.13.5"
  }
 },
 "nbformat": 4,
 "nbformat_minor": 5
}
